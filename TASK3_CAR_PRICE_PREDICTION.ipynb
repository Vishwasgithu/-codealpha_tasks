{
 "cells": [
  {
   "cell_type": "code",
   "execution_count": 5,
   "id": "0c13c7ea",
   "metadata": {},
   "outputs": [],
   "source": [
    "# 🚗 Car Price Prediction using Machine Learning\n",
    "\n",
    "This project aims to build a machine learning model to predict the price of a car based on several factors like:\n",
    "\n",
    "- Brand goodwill\n",
    "- Horsepower\n",
    "- Mileage\n",
    "- Fuel Type\n",
    "- Transmission\n",
    "- Car Age\n",
    "- And more...\n",
    "\n",
    "Car price prediction is useful for:\n",
    "- Buyers and sellers to make informed decisions\n",
    "- Used car marketplaces\n",
    "- Car companies and loan providers\n",
    "\n",
    "We will use **Random Forest Regression** to train the model and evaluate performance using metrics like **MAE (Mean Absolute Error)** and **R² Score**.\n"
   ]
  },
  {
   "cell_type": "code",
   "execution_count": 8,
   "id": "b7a4a4f6",
   "metadata": {},
   "outputs": [],
   "source": [
    "import pandas as pd\n",
    "import numpy as np\n",
    "import matplotlib.pyplot as plt\n",
    "import seaborn as sns\n",
    "\n",
    "from sklearn.model_selection import train_test_split\n",
    "from sklearn.ensemble import RandomForestRegressor\n",
    "from sklearn.metrics import mean_absolute_error, r2_score"
   ]
  },
  {
   "cell_type": "code",
   "execution_count": 9,
   "id": "cfd85e2c",
   "metadata": {},
   "outputs": [
    {
     "name": "stdout",
     "output_type": "stream",
     "text": [
      "  Car_Name  Year  Selling_Price  Present_Price  Driven_kms Fuel_Type  \\\n",
      "0     ritz  2014           3.35           5.59       27000    Petrol   \n",
      "1      sx4  2013           4.75           9.54       43000    Diesel   \n",
      "2     ciaz  2017           7.25           9.85        6900    Petrol   \n",
      "3  wagon r  2011           2.85           4.15        5200    Petrol   \n",
      "4    swift  2014           4.60           6.87       42450    Diesel   \n",
      "\n",
      "  Selling_type Transmission  Owner  \n",
      "0       Dealer       Manual      0  \n",
      "1       Dealer       Manual      0  \n",
      "2       Dealer       Manual      0  \n",
      "3       Dealer       Manual      0  \n",
      "4       Dealer       Manual      0  \n"
     ]
    }
   ],
   "source": [
    "data = pd.read_csv(r\"C:\\Users\\Asus\\Downloads\\archive (1)\\car data.csv\")\n",
    "print(data.head())"
   ]
  },
  {
   "cell_type": "code",
   "execution_count": 10,
   "id": "b1ab4a7f",
   "metadata": {},
   "outputs": [
    {
     "name": "stdout",
     "output_type": "stream",
     "text": [
      "Car_Name         0\n",
      "Year             0\n",
      "Selling_Price    0\n",
      "Present_Price    0\n",
      "Driven_kms       0\n",
      "Fuel_Type        0\n",
      "Selling_type     0\n",
      "Transmission     0\n",
      "Owner            0\n",
      "dtype: int64\n",
      "Car_Name          object\n",
      "Year               int64\n",
      "Selling_Price    float64\n",
      "Present_Price    float64\n",
      "Driven_kms         int64\n",
      "Fuel_Type         object\n",
      "Selling_type      object\n",
      "Transmission      object\n",
      "Owner              int64\n",
      "dtype: object\n"
     ]
    }
   ],
   "source": [
    "print(data.isnull().sum())  # Missing values are checked\n",
    "print(data.dtypes)          # Data types are checked\n"
   ]
  },
  {
   "cell_type": "code",
   "execution_count": 11,
   "id": "86b08dfb",
   "metadata": {},
   "outputs": [
    {
     "name": "stdout",
     "output_type": "stream",
     "text": [
      "Car_Name         0\n",
      "Year             0\n",
      "Selling_Price    0\n",
      "Present_Price    0\n",
      "Driven_kms       0\n",
      "Fuel_Type        0\n",
      "Selling_type     0\n",
      "Transmission     0\n",
      "Owner            0\n",
      "dtype: int64\n",
      "Car_Name          object\n",
      "Year               int64\n",
      "Selling_Price    float64\n",
      "Present_Price    float64\n",
      "Driven_kms         int64\n",
      "Fuel_Type         object\n",
      "Selling_type      object\n",
      "Transmission      object\n",
      "Owner              int64\n",
      "dtype: object\n",
      "              Year  Selling_Price  Present_Price     Driven_kms       Owner\n",
      "count   301.000000     301.000000     301.000000     301.000000  301.000000\n",
      "mean   2013.627907       4.661296       7.628472   36947.205980    0.043189\n",
      "std       2.891554       5.082812       8.642584   38886.883882    0.247915\n",
      "min    2003.000000       0.100000       0.320000     500.000000    0.000000\n",
      "25%    2012.000000       0.900000       1.200000   15000.000000    0.000000\n",
      "50%    2014.000000       3.600000       6.400000   32000.000000    0.000000\n",
      "75%    2016.000000       6.000000       9.900000   48767.000000    0.000000\n",
      "max    2018.000000      35.000000      92.600000  500000.000000    3.000000\n"
     ]
    }
   ],
   "source": [
    "print(data.isnull().sum())  # Check if there are any missing values in the dataset\n",
    "print(data.dtypes)          # Check the data types of each column\n",
    "print(data.describe())      # Get statistical summary of numerical columns\n"
   ]
  },
  {
   "cell_type": "code",
   "execution_count": 27,
   "id": "25a7e117",
   "metadata": {},
   "outputs": [
    {
     "name": "stdout",
     "output_type": "stream",
     "text": [
      "   Year  Selling_Price  Present_Price  Driven_kms  Owner  Car_Name_Activa 3g  \\\n",
      "0  2014           3.35           5.59       27000      0                   0   \n",
      "1  2013           4.75           9.54       43000      0                   0   \n",
      "2  2017           7.25           9.85        6900      0                   0   \n",
      "3  2011           2.85           4.15        5200      0                   0   \n",
      "4  2014           4.60           6.87       42450      0                   0   \n",
      "\n",
      "   Car_Name_Activa 4g  Car_Name_Bajaj  ct 100  Car_Name_Bajaj Avenger 150  \\\n",
      "0                   0                       0                           0   \n",
      "1                   0                       0                           0   \n",
      "2                   0                       0                           0   \n",
      "3                   0                       0                           0   \n",
      "4                   0                       0                           0   \n",
      "\n",
      "   Car_Name_Bajaj Avenger 150 street  ...  Car_Name_swift  Car_Name_sx4  \\\n",
      "0                                  0  ...               0             0   \n",
      "1                                  0  ...               0             1   \n",
      "2                                  0  ...               0             0   \n",
      "3                                  0  ...               0             0   \n",
      "4                                  0  ...               1             0   \n",
      "\n",
      "   Car_Name_verna  Car_Name_vitara brezza  Car_Name_wagon r  Car_Name_xcent  \\\n",
      "0               0                       0                 0               0   \n",
      "1               0                       0                 0               0   \n",
      "2               0                       0                 0               0   \n",
      "3               0                       0                 1               0   \n",
      "4               0                       0                 0               0   \n",
      "\n",
      "   Fuel_Type_Diesel  Fuel_Type_Petrol  Selling_type_Individual  \\\n",
      "0                 0                 1                        0   \n",
      "1                 1                 0                        0   \n",
      "2                 0                 1                        0   \n",
      "3                 0                 1                        0   \n",
      "4                 1                 0                        0   \n",
      "\n",
      "   Transmission_Manual  \n",
      "0                    1  \n",
      "1                    1  \n",
      "2                    1  \n",
      "3                    1  \n",
      "4                    1  \n",
      "\n",
      "[5 rows x 106 columns]\n"
     ]
    }
   ],
   "source": [
    "import pandas as pd\n",
    "\n",
    "data = pd.read_csv(r\"C:\\Users\\Asus\\Downloads\\archive (1)\\car data.csv\")\n",
    "\n",
    "final_data = pd.get_dummies(data, drop_first=True)\n",
    "\n",
    "if 'Unnamed: 0' in final_data.columns:\n",
    "    final_data = final_data.drop(['Unnamed: 0'], axis=1)\n",
    "\n",
    "print(final_data.head())\n",
    "\n",
    "X = final_data.drop('Selling_Price', axis=1)\n",
    "y = final_data['Selling_Price']\n"
   ]
  },
  {
   "cell_type": "code",
   "execution_count": 28,
   "id": "2047b048",
   "metadata": {},
   "outputs": [
    {
     "name": "stdout",
     "output_type": "stream",
     "text": [
      "Train score: 0.9834127007924263\n",
      "Test score: 0.9632206052631609\n"
     ]
    }
   ],
   "source": [
    "from sklearn.model_selection import train_test_split\n",
    "from sklearn.ensemble import RandomForestRegressor\n",
    "\n",
    "# Split the data into training and testing sets\n",
    "X_train, X_test, y_train, y_test = train_test_split(X, y, test_size=0.2, random_state=42)\n",
    "\n",
    "# Create and train the model\n",
    "model = RandomForestRegressor()\n",
    "model.fit(X_train, y_train)\n",
    "\n",
    "# Print model performance (R squared score)\n",
    "print(\"Train score:\", model.score(X_train, y_train))\n",
    "print(\"Test score:\", model.score(X_test, y_test))\n"
   ]
  },
  {
   "cell_type": "code",
   "execution_count": null,
   "id": "2724b8f9",
   "metadata": {},
   "outputs": [],
   "source": []
  },
  {
   "cell_type": "code",
   "execution_count": 14,
   "id": "e72a9910",
   "metadata": {},
   "outputs": [
    {
     "data": {
      "text/plain": [
       "RandomForestRegressor()"
      ]
     },
     "execution_count": 14,
     "metadata": {},
     "output_type": "execute_result"
    }
   ],
   "source": [
    "# Split the data into training and testing sets\n",
    "# 80% data model training ke liye, 20% testing ke liye use hoga\n",
    "X_train, X_test, y_train, y_test = train_test_split(X, y, test_size=0.2, random_state=42)\n",
    "\n",
    "# Create the Random Forest Regressor model\n",
    "model = RandomForestRegressor()\n",
    "\n",
    "# Train the model using training data\n",
    "model.fit(X_train, y_train)\n"
   ]
  },
  {
   "cell_type": "code",
   "execution_count": 31,
   "id": "88f11003",
   "metadata": {},
   "outputs": [],
   "source": [
    "# Train model (example)\n",
    "model = RandomForestRegressor()\n",
    "model.fit(X_train, y_train)\n",
    "\n",
    "# Save model and feature columns after training\n",
    "import pickle\n",
    "with open('car_price_model.pkl', 'wb') as f:\n",
    "    pickle.dump(model, f)\n",
    "\n",
    "with open('feature_columns.pkl', 'wb') as f:\n",
    "    pickle.dump(X.columns, f)\n"
   ]
  },
  {
   "cell_type": "code",
   "execution_count": 29,
   "id": "ee23f5c2",
   "metadata": {},
   "outputs": [
    {
     "name": "stdout",
     "output_type": "stream",
     "text": [
      "MAE: 0.6010852459016396\n",
      "R2 Score: 0.9632206052631609\n"
     ]
    }
   ],
   "source": [
    "# Predict on test data\n",
    "y_pred = model.predict(X_test)\n",
    "\n",
    "# Calculate and print Mean Absolute Error (MAE)\n",
    "print(\"MAE:\", mean_absolute_error(y_test, y_pred))\n",
    "\n",
    "# Calculate and print R2 Score\n",
    "print(\"R2 Score:\", r2_score(y_test, y_pred))\n"
   ]
  },
  {
   "cell_type": "code",
   "execution_count": 11,
   "id": "cfb4464a",
   "metadata": {},
   "outputs": [
    {
     "data": {
      "image/png": "[encoded data removed]",
      "text/plain": [
       "<Figure size 432x288 with 1 Axes>"
      ]
     },
     "metadata": {
      "needs_background": "light"
     },
     "output_type": "display_data"
    }
   ],
   "source": [
    "feature_importances = pd.Series(model.feature_importances_, index=X.columns)\n",
    "feature_importances.nlargest(5).plot(kind='barh')\n",
    "plt.title(\"Top 5 Important Features\")\n",
    "plt.show()\n"
   ]
  },
  {
   "cell_type": "code",
   "execution_count": 22,
   "id": "388aadee",
   "metadata": {},
   "outputs": [
    {
     "name": "stdout",
     "output_type": "stream",
     "text": [
      "Model aur feature columns file save ho gaye!\n"
     ]
    }
   ],
   "source": [
    "import pandas as pd\n",
    "import pickle\n",
    "from sklearn.model_selection import train_test_split\n",
    "from sklearn.ensemble import RandomForestRegressor\n",
    "\n",
    "# Data load karo\n",
    "data = pd.read_csv(r\"C:\\Users\\Asus\\Downloads\\archive (1)\\car data.csv\")\n",
    "\n",
    "# Categorical to numeric convert karo\n",
    "final_data = pd.get_dummies(data, drop_first=True)\n",
    "\n",
    "# Agar 'Unnamed: 0' column hai to hata do\n",
    "if 'Unnamed: 0' in final_data.columns:\n",
    "    final_data = final_data.drop(['Unnamed: 0'], axis=1)\n",
    "\n",
    "# Features aur target alag karo\n",
    "X = final_data.drop('Selling_Price', axis=1)\n",
    "y = final_data['Selling_Price']\n",
    "\n",
    "# Train-test split karo\n",
    "X_train, X_test, y_train, y_test = train_test_split(X, y, test_size=0.2, random_state=42)\n",
    "\n",
    "# Model banakar train karo\n",
    "model = RandomForestRegressor()\n",
    "model.fit(X_train, y_train)\n",
    "\n",
    "# Feature columns ko save karo full path ke saath\n",
    "feature_columns = X.columns\n",
    "with open(r'C:\\Users\\Asus\\feature_columns.pkl', 'wb') as f:\n",
    "    pickle.dump(feature_columns, f)\n",
    "\n",
    "# Model ko save karo full path ke saath\n",
    "with open(r'C:\\Users\\Asus\\car_price_model.pkl', 'wb') as f:\n",
    "    pickle.dump(model, f)\n",
    "\n",
    "print(\"Model aur feature columns file save ho gaye!\")\n"
   ]
  },
  {
   "cell_type": "code",
   "execution_count": null,
   "id": "8fc7121d",
   "metadata": {},
   "outputs": [],
   "source": []
  },
  {
   "cell_type": "code",
   "execution_count": null,
   "id": "b8436378",
   "metadata": {},
   "outputs": [],
   "source": []
  },
  {
   "cell_type": "code",
   "execution_count": 33,
   "id": "a3f9a53f",
   "metadata": {},
   "outputs": [
    {
     "name": "stdout",
     "output_type": "stream",
     "text": [
      "Please enter the car details:\n",
      "Year of the car (e.g., 2014): 2013\n",
      "Present price of the car (in Lakhs, e.g., 5.59): 5\n",
      "Kms driven (e.g., 27000): 56\n",
      "Number of previous owners (e.g., 0): 1\n",
      "Fuel type (Petrol/Diesel/CNG): Petrol\n",
      "Seller type (Dealer/Individual): Dealer\n",
      "Transmission type (Manual/Automatic): Manual\n",
      "\n",
      "Estimated Car Selling Price: 3.10 Lakhs\n"
     ]
    }
   ],
   "source": [
    "import pickle\n",
    "import pandas as pd\n",
    "\n",
    "# Load saved model and feature columns\n",
    "with open('car_price_model.pkl', 'rb') as f:\n",
    "    model = pickle.load(f)\n",
    "\n",
    "with open('feature_columns.pkl', 'rb') as f:\n",
    "    feature_columns = pickle.load(f)\n",
    "\n",
    "# Function to get user input from console\n",
    "def get_user_input():\n",
    "    print(\"Please enter the car details:\")\n",
    "\n",
    "    Year = int(input(\"Year of the car (e.g., 2014): \"))\n",
    "    Present_Price = float(input(\"Present price of the car (in Lakhs, e.g., 5.59): \"))\n",
    "    Kms_Driven = int(input(\"Kms driven (e.g., 27000): \"))\n",
    "    Owner = int(input(\"Number of previous owners (e.g., 0): \"))\n",
    "\n",
    "    # Fuel type input\n",
    "    fuel = input(\"Fuel type (Petrol/Diesel/CNG): \").strip().lower()\n",
    "    Fuel_Type_Diesel = 1 if fuel == 'diesel' else 0\n",
    "    Fuel_Type_Petrol = 1 if fuel == 'petrol' else 0\n",
    "    # CNG means both diesel and petrol 0\n",
    "\n",
    "    # Seller type input\n",
    "    seller = input(\"Seller type (Dealer/Individual): \").strip().lower()\n",
    "    Seller_Type_Individual = 1 if seller == 'individual' else 0\n",
    "\n",
    "    # Transmission input\n",
    "    trans = input(\"Transmission type (Manual/Automatic): \").strip().lower()\n",
    "    Transmission_Manual = 1 if trans == 'manual' else 0\n",
    "\n",
    "    data = {\n",
    "        'Year': Year,\n",
    "        'Present_Price': Present_Price,\n",
    "        'Kms_Driven': Kms_Driven,\n",
    "        'Owner': Owner,\n",
    "        'Fuel_Type_Diesel': Fuel_Type_Diesel,\n",
    "        'Fuel_Type_Petrol': Fuel_Type_Petrol,\n",
    "        'Seller_Type_Individual': Seller_Type_Individual,\n",
    "        'Transmission_Manual': Transmission_Manual\n",
    "    }\n",
    "    return data\n",
    "\n",
    "# Get user input as dictionary\n",
    "input_data = get_user_input()\n",
    "\n",
    "# Prepare input DataFrame with all feature columns, fill missing with 0\n",
    "input_df = pd.DataFrame(columns=feature_columns)\n",
    "for col in feature_columns:\n",
    "    input_df.loc[0, col] = input_data.get(col, 0)\n",
    "\n",
    "# Predict car price\n",
    "predicted_price = model.predict(input_df)\n",
    "\n",
    "print(f\"\\nEstimated Car Selling Price: {predicted_price[0]:.2f} Lakhs\")\n"
   ]
  },
  {
   "cell_type": "code",
   "execution_count": null,
   "id": "3a9c60ab",
   "metadata": {},
   "outputs": [],
   "source": []
  },
  {
   "cell_type": "code",
   "execution_count": null,
   "id": "d3fb8111",
   "metadata": {},
   "outputs": [],
   "source": []
  },
  {
   "cell_type": "code",
   "execution_count": null,
   "id": "7bf28954",
   "metadata": {},
   "outputs": [],
   "source": []
  },
  {
   "cell_type": "code",
   "execution_count": null,
   "id": "eabe83d0",
   "metadata": {},
   "outputs": [],
   "source": []
  },
  {
   "cell_type": "code",
   "execution_count": null,
   "id": "e21fd655",
   "metadata": {},
   "outputs": [],
   "source": []
  },
  {
   "cell_type": "code",
   "execution_count": null,
   "id": "0b12aaa2",
   "metadata": {},
   "outputs": [],
   "source": []
  },
  {
   "cell_type": "code",
   "execution_count": null,
   "id": "cc3344c9",
   "metadata": {},
   "outputs": [],
   "source": []
  },
  {
   "cell_type": "code",
   "execution_count": null,
   "id": "bddb4d02",
   "metadata": {},
   "outputs": [],
   "source": []
  },
  {
   "cell_type": "code",
   "execution_count": null,
   "id": "ba94afc3",
   "metadata": {},
   "outputs": [],
   "source": []
  }
 ],
 "metadata": {
  "kernelspec": {
   "display_name": "Python 3 (ipykernel)",
   "language": "python",
   "name": "python3"
  },
  "language_info": {
   "codemirror_mode": {
    "name": "ipython",
    "version": 3
   },
   "file_extension": ".py",
   "mimetype": "text/x-python",
   "name": "python",
   "nbconvert_exporter": "python",
   "pygments_lexer": "ipython3",
   "version": "3.9.7"
  }
 },
 "nbformat": 4,
 "nbformat_minor": 5
}
